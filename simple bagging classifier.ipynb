{
 "cells": [
  {
   "cell_type": "code",
   "execution_count": 1,
   "id": "0c3bae33",
   "metadata": {},
   "outputs": [],
   "source": [
    "from sklearn.ensemble import BaggingClassifier\n",
    "from sklearn.neighbors import KNeighborsClassifier"
   ]
  },
  {
   "cell_type": "code",
   "execution_count": 2,
   "id": "3301405e",
   "metadata": {},
   "outputs": [],
   "source": [
    "from sklearn.datasets import load_breast_cancer\n",
    "dataset=load_breast_cancer()\n",
    "X=dataset.data\n",
    "y=dataset.target"
   ]
  },
  {
   "cell_type": "code",
   "execution_count": 3,
   "id": "f8f41013",
   "metadata": {},
   "outputs": [],
   "source": [
    "from sklearn.model_selection import train_test_split\n",
    "X_train,X_test,y_train,y_test=train_test_split(X,y,random_state=4)"
   ]
  },
  {
   "cell_type": "code",
   "execution_count": 4,
   "id": "926ea7b2",
   "metadata": {},
   "outputs": [
    {
     "data": {
      "text/plain": [
       "0.8951048951048951"
      ]
     },
     "execution_count": 4,
     "metadata": {},
     "output_type": "execute_result"
    }
   ],
   "source": [
    "knn=KNeighborsClassifier(n_neighbors=5)\n",
    "knn.fit(X_train,y_train)\n",
    "knn.score(X_test,y_test)"
   ]
  },
  {
   "cell_type": "code",
   "execution_count": null,
   "id": "b3c97a32",
   "metadata": {},
   "outputs": [],
   "source": [
    "#Lets use bagging over our knn model to see if the score increases "
   ]
  },
  {
   "cell_type": "code",
   "execution_count": 5,
   "id": "a7a277fd",
   "metadata": {},
   "outputs": [],
   "source": [
    "bag_knn=BaggingClassifier(KNeighborsClassifier(n_neighbors=5),\n",
    "                          n_estimators=9,max_samples=0.7,\n",
    "                          bootstrap=True,random_state=3,oob_score=True) #samples means that how much features we allow\n",
    "                                                                        #to each knn model"
   ]
  },
  {
   "cell_type": "code",
   "execution_count": 6,
   "id": "0ddcccee",
   "metadata": {},
   "outputs": [
    {
     "name": "stderr",
     "output_type": "stream",
     "text": [
      "C:\\Users\\HP\\anaconda3\\lib\\site-packages\\sklearn\\ensemble\\_bagging.py:706: UserWarning: Some inputs do not have OOB scores. This probably means too few estimators were used to compute any reliable oob estimates.\n",
      "  warn(\n",
      "C:\\Users\\HP\\anaconda3\\lib\\site-packages\\sklearn\\ensemble\\_bagging.py:712: RuntimeWarning: invalid value encountered in true_divide\n",
      "  oob_decision_function = predictions / predictions.sum(axis=1)[:, np.newaxis]\n"
     ]
    },
    {
     "data": {
      "text/plain": [
       "0.9020979020979021"
      ]
     },
     "execution_count": 6,
     "metadata": {},
     "output_type": "execute_result"
    }
   ],
   "source": [
    "bag_knn.fit(X_train,y_train)\n",
    "bag_knn.score(X_test,y_test)"
   ]
  },
  {
   "cell_type": "code",
   "execution_count": null,
   "id": "93980cf8",
   "metadata": {},
   "outputs": [],
   "source": [
    "#SCore has increased by using bagging technique ,please do hyperparamter tuning for better results,"
   ]
  },
  {
   "cell_type": "code",
   "execution_count": 11,
   "id": "bee3d7f9",
   "metadata": {},
   "outputs": [],
   "source": [
    "pasting_knn=BaggingClassifier(KNeighborsClassifier(n_neighbors=5),\n",
    "                          n_estimators=9,max_samples=0.7,\n",
    "                          bootstrap=False,random_state=3)"
   ]
  },
  {
   "cell_type": "code",
   "execution_count": 12,
   "id": "7ce40711",
   "metadata": {},
   "outputs": [
    {
     "data": {
      "text/plain": [
       "0.8881118881118881"
      ]
     },
     "execution_count": 12,
     "metadata": {},
     "output_type": "execute_result"
    }
   ],
   "source": [
    "pasting_knn.fit(X_train,y_train)\n",
    "pasting_knn.score(X_test,y_test) #without replacement model accuracy has reduced"
   ]
  },
  {
   "cell_type": "code",
   "execution_count": null,
   "id": "53e25abf",
   "metadata": {},
   "outputs": [],
   "source": []
  }
 ],
 "metadata": {
  "kernelspec": {
   "display_name": "Python 3 (ipykernel)",
   "language": "python",
   "name": "python3"
  },
  "language_info": {
   "codemirror_mode": {
    "name": "ipython",
    "version": 3
   },
   "file_extension": ".py",
   "mimetype": "text/x-python",
   "name": "python",
   "nbconvert_exporter": "python",
   "pygments_lexer": "ipython3",
   "version": "3.9.12"
  }
 },
 "nbformat": 4,
 "nbformat_minor": 5
}
